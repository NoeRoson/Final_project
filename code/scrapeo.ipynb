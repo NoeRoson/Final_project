{
 "cells": [
  {
   "cell_type": "markdown",
   "metadata": {},
   "source": [
    "\n"
   ]
  },
  {
   "cell_type": "code",
   "execution_count": 1,
   "metadata": {},
   "outputs": [],
   "source": [
    "from selenium import webdriver\n",
    "import time\n",
    "import pandas as pd\n",
    "import warnings\n",
    "warnings.filterwarnings('ignore')\n",
    "\n",
    "from selenium.webdriver.common.by import By\n",
    "from selenium.webdriver.chrome.options import Options\n",
    "from webdriver_manager.chrome import ChromeDriverManager"
   ]
  },
  {
   "cell_type": "code",
   "execution_count": 2,
   "metadata": {},
   "outputs": [],
   "source": [
    "opciones=Options()\n",
    "PATH = \"/driver/chromedriver\"\n",
    "from selenium.webdriver.common.by import By\n",
    "driver = webdriver.Chrome(opciones)"
   ]
  },
  {
   "cell_type": "code",
   "execution_count": 3,
   "metadata": {},
   "outputs": [],
   "source": [
    "url = 'https://www.boe.es/diario_boe/txt.php?id=BOE-A-2023-7326'"
   ]
  },
  {
   "cell_type": "code",
   "execution_count": 4,
   "metadata": {},
   "outputs": [],
   "source": [
    "driver.get(url)"
   ]
  },
  {
   "cell_type": "code",
   "execution_count": 5,
   "metadata": {},
   "outputs": [],
   "source": [
    "lista = driver.find_elements(By.XPATH, '//p[@class=\"parrafo_2\"]')"
   ]
  },
  {
   "cell_type": "code",
   "execution_count": 6,
   "metadata": {},
   "outputs": [
    {
     "data": {
      "text/plain": [
       "[<selenium.webdriver.remote.webelement.WebElement (session=\"f5d0863ef8240fea6c3bc1baae0425cf\", element=\"CBD63EA093DD7EE9BC52DB25603EDFFE_element_24\")>,\n",
       " <selenium.webdriver.remote.webelement.WebElement (session=\"f5d0863ef8240fea6c3bc1baae0425cf\", element=\"CBD63EA093DD7EE9BC52DB25603EDFFE_element_25\")>,\n",
       " <selenium.webdriver.remote.webelement.WebElement (session=\"f5d0863ef8240fea6c3bc1baae0425cf\", element=\"CBD63EA093DD7EE9BC52DB25603EDFFE_element_26\")>,\n",
       " <selenium.webdriver.remote.webelement.WebElement (session=\"f5d0863ef8240fea6c3bc1baae0425cf\", element=\"CBD63EA093DD7EE9BC52DB25603EDFFE_element_27\")>,\n",
       " <selenium.webdriver.remote.webelement.WebElement (session=\"f5d0863ef8240fea6c3bc1baae0425cf\", element=\"CBD63EA093DD7EE9BC52DB25603EDFFE_element_28\")>,\n",
       " <selenium.webdriver.remote.webelement.WebElement (session=\"f5d0863ef8240fea6c3bc1baae0425cf\", element=\"CBD63EA093DD7EE9BC52DB25603EDFFE_element_29\")>,\n",
       " <selenium.webdriver.remote.webelement.WebElement (session=\"f5d0863ef8240fea6c3bc1baae0425cf\", element=\"CBD63EA093DD7EE9BC52DB25603EDFFE_element_30\")>,\n",
       " <selenium.webdriver.remote.webelement.WebElement (session=\"f5d0863ef8240fea6c3bc1baae0425cf\", element=\"CBD63EA093DD7EE9BC52DB25603EDFFE_element_31\")>,\n",
       " <selenium.webdriver.remote.webelement.WebElement (session=\"f5d0863ef8240fea6c3bc1baae0425cf\", element=\"CBD63EA093DD7EE9BC52DB25603EDFFE_element_32\")>,\n",
       " <selenium.webdriver.remote.webelement.WebElement (session=\"f5d0863ef8240fea6c3bc1baae0425cf\", element=\"CBD63EA093DD7EE9BC52DB25603EDFFE_element_33\")>,\n",
       " <selenium.webdriver.remote.webelement.WebElement (session=\"f5d0863ef8240fea6c3bc1baae0425cf\", element=\"CBD63EA093DD7EE9BC52DB25603EDFFE_element_34\")>,\n",
       " <selenium.webdriver.remote.webelement.WebElement (session=\"f5d0863ef8240fea6c3bc1baae0425cf\", element=\"CBD63EA093DD7EE9BC52DB25603EDFFE_element_35\")>,\n",
       " <selenium.webdriver.remote.webelement.WebElement (session=\"f5d0863ef8240fea6c3bc1baae0425cf\", element=\"CBD63EA093DD7EE9BC52DB25603EDFFE_element_36\")>,\n",
       " <selenium.webdriver.remote.webelement.WebElement (session=\"f5d0863ef8240fea6c3bc1baae0425cf\", element=\"CBD63EA093DD7EE9BC52DB25603EDFFE_element_37\")>,\n",
       " <selenium.webdriver.remote.webelement.WebElement (session=\"f5d0863ef8240fea6c3bc1baae0425cf\", element=\"CBD63EA093DD7EE9BC52DB25603EDFFE_element_38\")>,\n",
       " <selenium.webdriver.remote.webelement.WebElement (session=\"f5d0863ef8240fea6c3bc1baae0425cf\", element=\"CBD63EA093DD7EE9BC52DB25603EDFFE_element_39\")>,\n",
       " <selenium.webdriver.remote.webelement.WebElement (session=\"f5d0863ef8240fea6c3bc1baae0425cf\", element=\"CBD63EA093DD7EE9BC52DB25603EDFFE_element_40\")>,\n",
       " <selenium.webdriver.remote.webelement.WebElement (session=\"f5d0863ef8240fea6c3bc1baae0425cf\", element=\"CBD63EA093DD7EE9BC52DB25603EDFFE_element_41\")>,\n",
       " <selenium.webdriver.remote.webelement.WebElement (session=\"f5d0863ef8240fea6c3bc1baae0425cf\", element=\"CBD63EA093DD7EE9BC52DB25603EDFFE_element_42\")>,\n",
       " <selenium.webdriver.remote.webelement.WebElement (session=\"f5d0863ef8240fea6c3bc1baae0425cf\", element=\"CBD63EA093DD7EE9BC52DB25603EDFFE_element_43\")>,\n",
       " <selenium.webdriver.remote.webelement.WebElement (session=\"f5d0863ef8240fea6c3bc1baae0425cf\", element=\"CBD63EA093DD7EE9BC52DB25603EDFFE_element_44\")>,\n",
       " <selenium.webdriver.remote.webelement.WebElement (session=\"f5d0863ef8240fea6c3bc1baae0425cf\", element=\"CBD63EA093DD7EE9BC52DB25603EDFFE_element_45\")>,\n",
       " <selenium.webdriver.remote.webelement.WebElement (session=\"f5d0863ef8240fea6c3bc1baae0425cf\", element=\"CBD63EA093DD7EE9BC52DB25603EDFFE_element_46\")>,\n",
       " <selenium.webdriver.remote.webelement.WebElement (session=\"f5d0863ef8240fea6c3bc1baae0425cf\", element=\"CBD63EA093DD7EE9BC52DB25603EDFFE_element_47\")>,\n",
       " <selenium.webdriver.remote.webelement.WebElement (session=\"f5d0863ef8240fea6c3bc1baae0425cf\", element=\"CBD63EA093DD7EE9BC52DB25603EDFFE_element_48\")>,\n",
       " <selenium.webdriver.remote.webelement.WebElement (session=\"f5d0863ef8240fea6c3bc1baae0425cf\", element=\"CBD63EA093DD7EE9BC52DB25603EDFFE_element_49\")>,\n",
       " <selenium.webdriver.remote.webelement.WebElement (session=\"f5d0863ef8240fea6c3bc1baae0425cf\", element=\"CBD63EA093DD7EE9BC52DB25603EDFFE_element_50\")>,\n",
       " <selenium.webdriver.remote.webelement.WebElement (session=\"f5d0863ef8240fea6c3bc1baae0425cf\", element=\"CBD63EA093DD7EE9BC52DB25603EDFFE_element_51\")>,\n",
       " <selenium.webdriver.remote.webelement.WebElement (session=\"f5d0863ef8240fea6c3bc1baae0425cf\", element=\"CBD63EA093DD7EE9BC52DB25603EDFFE_element_52\")>,\n",
       " <selenium.webdriver.remote.webelement.WebElement (session=\"f5d0863ef8240fea6c3bc1baae0425cf\", element=\"CBD63EA093DD7EE9BC52DB25603EDFFE_element_53\")>,\n",
       " <selenium.webdriver.remote.webelement.WebElement (session=\"f5d0863ef8240fea6c3bc1baae0425cf\", element=\"CBD63EA093DD7EE9BC52DB25603EDFFE_element_54\")>,\n",
       " <selenium.webdriver.remote.webelement.WebElement (session=\"f5d0863ef8240fea6c3bc1baae0425cf\", element=\"CBD63EA093DD7EE9BC52DB25603EDFFE_element_55\")>,\n",
       " <selenium.webdriver.remote.webelement.WebElement (session=\"f5d0863ef8240fea6c3bc1baae0425cf\", element=\"CBD63EA093DD7EE9BC52DB25603EDFFE_element_56\")>,\n",
       " <selenium.webdriver.remote.webelement.WebElement (session=\"f5d0863ef8240fea6c3bc1baae0425cf\", element=\"CBD63EA093DD7EE9BC52DB25603EDFFE_element_57\")>,\n",
       " <selenium.webdriver.remote.webelement.WebElement (session=\"f5d0863ef8240fea6c3bc1baae0425cf\", element=\"CBD63EA093DD7EE9BC52DB25603EDFFE_element_58\")>,\n",
       " <selenium.webdriver.remote.webelement.WebElement (session=\"f5d0863ef8240fea6c3bc1baae0425cf\", element=\"CBD63EA093DD7EE9BC52DB25603EDFFE_element_59\")>,\n",
       " <selenium.webdriver.remote.webelement.WebElement (session=\"f5d0863ef8240fea6c3bc1baae0425cf\", element=\"CBD63EA093DD7EE9BC52DB25603EDFFE_element_60\")>,\n",
       " <selenium.webdriver.remote.webelement.WebElement (session=\"f5d0863ef8240fea6c3bc1baae0425cf\", element=\"CBD63EA093DD7EE9BC52DB25603EDFFE_element_61\")>,\n",
       " <selenium.webdriver.remote.webelement.WebElement (session=\"f5d0863ef8240fea6c3bc1baae0425cf\", element=\"CBD63EA093DD7EE9BC52DB25603EDFFE_element_62\")>,\n",
       " <selenium.webdriver.remote.webelement.WebElement (session=\"f5d0863ef8240fea6c3bc1baae0425cf\", element=\"CBD63EA093DD7EE9BC52DB25603EDFFE_element_63\")>,\n",
       " <selenium.webdriver.remote.webelement.WebElement (session=\"f5d0863ef8240fea6c3bc1baae0425cf\", element=\"CBD63EA093DD7EE9BC52DB25603EDFFE_element_64\")>,\n",
       " <selenium.webdriver.remote.webelement.WebElement (session=\"f5d0863ef8240fea6c3bc1baae0425cf\", element=\"CBD63EA093DD7EE9BC52DB25603EDFFE_element_65\")>,\n",
       " <selenium.webdriver.remote.webelement.WebElement (session=\"f5d0863ef8240fea6c3bc1baae0425cf\", element=\"CBD63EA093DD7EE9BC52DB25603EDFFE_element_66\")>,\n",
       " <selenium.webdriver.remote.webelement.WebElement (session=\"f5d0863ef8240fea6c3bc1baae0425cf\", element=\"CBD63EA093DD7EE9BC52DB25603EDFFE_element_67\")>,\n",
       " <selenium.webdriver.remote.webelement.WebElement (session=\"f5d0863ef8240fea6c3bc1baae0425cf\", element=\"CBD63EA093DD7EE9BC52DB25603EDFFE_element_68\")>,\n",
       " <selenium.webdriver.remote.webelement.WebElement (session=\"f5d0863ef8240fea6c3bc1baae0425cf\", element=\"CBD63EA093DD7EE9BC52DB25603EDFFE_element_69\")>,\n",
       " <selenium.webdriver.remote.webelement.WebElement (session=\"f5d0863ef8240fea6c3bc1baae0425cf\", element=\"CBD63EA093DD7EE9BC52DB25603EDFFE_element_70\")>,\n",
       " <selenium.webdriver.remote.webelement.WebElement (session=\"f5d0863ef8240fea6c3bc1baae0425cf\", element=\"CBD63EA093DD7EE9BC52DB25603EDFFE_element_71\")>,\n",
       " <selenium.webdriver.remote.webelement.WebElement (session=\"f5d0863ef8240fea6c3bc1baae0425cf\", element=\"CBD63EA093DD7EE9BC52DB25603EDFFE_element_72\")>,\n",
       " <selenium.webdriver.remote.webelement.WebElement (session=\"f5d0863ef8240fea6c3bc1baae0425cf\", element=\"CBD63EA093DD7EE9BC52DB25603EDFFE_element_73\")>,\n",
       " <selenium.webdriver.remote.webelement.WebElement (session=\"f5d0863ef8240fea6c3bc1baae0425cf\", element=\"CBD63EA093DD7EE9BC52DB25603EDFFE_element_74\")>,\n",
       " <selenium.webdriver.remote.webelement.WebElement (session=\"f5d0863ef8240fea6c3bc1baae0425cf\", element=\"CBD63EA093DD7EE9BC52DB25603EDFFE_element_75\")>,\n",
       " <selenium.webdriver.remote.webelement.WebElement (session=\"f5d0863ef8240fea6c3bc1baae0425cf\", element=\"CBD63EA093DD7EE9BC52DB25603EDFFE_element_76\")>,\n",
       " <selenium.webdriver.remote.webelement.WebElement (session=\"f5d0863ef8240fea6c3bc1baae0425cf\", element=\"CBD63EA093DD7EE9BC52DB25603EDFFE_element_77\")>,\n",
       " <selenium.webdriver.remote.webelement.WebElement (session=\"f5d0863ef8240fea6c3bc1baae0425cf\", element=\"CBD63EA093DD7EE9BC52DB25603EDFFE_element_78\")>,\n",
       " <selenium.webdriver.remote.webelement.WebElement (session=\"f5d0863ef8240fea6c3bc1baae0425cf\", element=\"CBD63EA093DD7EE9BC52DB25603EDFFE_element_79\")>,\n",
       " <selenium.webdriver.remote.webelement.WebElement (session=\"f5d0863ef8240fea6c3bc1baae0425cf\", element=\"CBD63EA093DD7EE9BC52DB25603EDFFE_element_80\")>,\n",
       " <selenium.webdriver.remote.webelement.WebElement (session=\"f5d0863ef8240fea6c3bc1baae0425cf\", element=\"CBD63EA093DD7EE9BC52DB25603EDFFE_element_81\")>,\n",
       " <selenium.webdriver.remote.webelement.WebElement (session=\"f5d0863ef8240fea6c3bc1baae0425cf\", element=\"CBD63EA093DD7EE9BC52DB25603EDFFE_element_82\")>,\n",
       " <selenium.webdriver.remote.webelement.WebElement (session=\"f5d0863ef8240fea6c3bc1baae0425cf\", element=\"CBD63EA093DD7EE9BC52DB25603EDFFE_element_83\")>,\n",
       " <selenium.webdriver.remote.webelement.WebElement (session=\"f5d0863ef8240fea6c3bc1baae0425cf\", element=\"CBD63EA093DD7EE9BC52DB25603EDFFE_element_84\")>,\n",
       " <selenium.webdriver.remote.webelement.WebElement (session=\"f5d0863ef8240fea6c3bc1baae0425cf\", element=\"CBD63EA093DD7EE9BC52DB25603EDFFE_element_85\")>,\n",
       " <selenium.webdriver.remote.webelement.WebElement (session=\"f5d0863ef8240fea6c3bc1baae0425cf\", element=\"CBD63EA093DD7EE9BC52DB25603EDFFE_element_86\")>,\n",
       " <selenium.webdriver.remote.webelement.WebElement (session=\"f5d0863ef8240fea6c3bc1baae0425cf\", element=\"CBD63EA093DD7EE9BC52DB25603EDFFE_element_87\")>,\n",
       " <selenium.webdriver.remote.webelement.WebElement (session=\"f5d0863ef8240fea6c3bc1baae0425cf\", element=\"CBD63EA093DD7EE9BC52DB25603EDFFE_element_88\")>,\n",
       " <selenium.webdriver.remote.webelement.WebElement (session=\"f5d0863ef8240fea6c3bc1baae0425cf\", element=\"CBD63EA093DD7EE9BC52DB25603EDFFE_element_89\")>,\n",
       " <selenium.webdriver.remote.webelement.WebElement (session=\"f5d0863ef8240fea6c3bc1baae0425cf\", element=\"CBD63EA093DD7EE9BC52DB25603EDFFE_element_90\")>,\n",
       " <selenium.webdriver.remote.webelement.WebElement (session=\"f5d0863ef8240fea6c3bc1baae0425cf\", element=\"CBD63EA093DD7EE9BC52DB25603EDFFE_element_91\")>,\n",
       " <selenium.webdriver.remote.webelement.WebElement (session=\"f5d0863ef8240fea6c3bc1baae0425cf\", element=\"CBD63EA093DD7EE9BC52DB25603EDFFE_element_92\")>,\n",
       " <selenium.webdriver.remote.webelement.WebElement (session=\"f5d0863ef8240fea6c3bc1baae0425cf\", element=\"CBD63EA093DD7EE9BC52DB25603EDFFE_element_93\")>,\n",
       " <selenium.webdriver.remote.webelement.WebElement (session=\"f5d0863ef8240fea6c3bc1baae0425cf\", element=\"CBD63EA093DD7EE9BC52DB25603EDFFE_element_94\")>,\n",
       " <selenium.webdriver.remote.webelement.WebElement (session=\"f5d0863ef8240fea6c3bc1baae0425cf\", element=\"CBD63EA093DD7EE9BC52DB25603EDFFE_element_95\")>,\n",
       " <selenium.webdriver.remote.webelement.WebElement (session=\"f5d0863ef8240fea6c3bc1baae0425cf\", element=\"CBD63EA093DD7EE9BC52DB25603EDFFE_element_96\")>,\n",
       " <selenium.webdriver.remote.webelement.WebElement (session=\"f5d0863ef8240fea6c3bc1baae0425cf\", element=\"CBD63EA093DD7EE9BC52DB25603EDFFE_element_97\")>,\n",
       " <selenium.webdriver.remote.webelement.WebElement (session=\"f5d0863ef8240fea6c3bc1baae0425cf\", element=\"CBD63EA093DD7EE9BC52DB25603EDFFE_element_98\")>,\n",
       " <selenium.webdriver.remote.webelement.WebElement (session=\"f5d0863ef8240fea6c3bc1baae0425cf\", element=\"CBD63EA093DD7EE9BC52DB25603EDFFE_element_99\")>,\n",
       " <selenium.webdriver.remote.webelement.WebElement (session=\"f5d0863ef8240fea6c3bc1baae0425cf\", element=\"CBD63EA093DD7EE9BC52DB25603EDFFE_element_100\")>,\n",
       " <selenium.webdriver.remote.webelement.WebElement (session=\"f5d0863ef8240fea6c3bc1baae0425cf\", element=\"CBD63EA093DD7EE9BC52DB25603EDFFE_element_101\")>,\n",
       " <selenium.webdriver.remote.webelement.WebElement (session=\"f5d0863ef8240fea6c3bc1baae0425cf\", element=\"CBD63EA093DD7EE9BC52DB25603EDFFE_element_102\")>,\n",
       " <selenium.webdriver.remote.webelement.WebElement (session=\"f5d0863ef8240fea6c3bc1baae0425cf\", element=\"CBD63EA093DD7EE9BC52DB25603EDFFE_element_103\")>,\n",
       " <selenium.webdriver.remote.webelement.WebElement (session=\"f5d0863ef8240fea6c3bc1baae0425cf\", element=\"CBD63EA093DD7EE9BC52DB25603EDFFE_element_104\")>,\n",
       " <selenium.webdriver.remote.webelement.WebElement (session=\"f5d0863ef8240fea6c3bc1baae0425cf\", element=\"CBD63EA093DD7EE9BC52DB25603EDFFE_element_105\")>,\n",
       " <selenium.webdriver.remote.webelement.WebElement (session=\"f5d0863ef8240fea6c3bc1baae0425cf\", element=\"CBD63EA093DD7EE9BC52DB25603EDFFE_element_106\")>,\n",
       " <selenium.webdriver.remote.webelement.WebElement (session=\"f5d0863ef8240fea6c3bc1baae0425cf\", element=\"CBD63EA093DD7EE9BC52DB25603EDFFE_element_107\")>,\n",
       " <selenium.webdriver.remote.webelement.WebElement (session=\"f5d0863ef8240fea6c3bc1baae0425cf\", element=\"CBD63EA093DD7EE9BC52DB25603EDFFE_element_108\")>,\n",
       " <selenium.webdriver.remote.webelement.WebElement (session=\"f5d0863ef8240fea6c3bc1baae0425cf\", element=\"CBD63EA093DD7EE9BC52DB25603EDFFE_element_109\")>,\n",
       " <selenium.webdriver.remote.webelement.WebElement (session=\"f5d0863ef8240fea6c3bc1baae0425cf\", element=\"CBD63EA093DD7EE9BC52DB25603EDFFE_element_110\")>,\n",
       " <selenium.webdriver.remote.webelement.WebElement (session=\"f5d0863ef8240fea6c3bc1baae0425cf\", element=\"CBD63EA093DD7EE9BC52DB25603EDFFE_element_111\")>,\n",
       " <selenium.webdriver.remote.webelement.WebElement (session=\"f5d0863ef8240fea6c3bc1baae0425cf\", element=\"CBD63EA093DD7EE9BC52DB25603EDFFE_element_112\")>,\n",
       " <selenium.webdriver.remote.webelement.WebElement (session=\"f5d0863ef8240fea6c3bc1baae0425cf\", element=\"CBD63EA093DD7EE9BC52DB25603EDFFE_element_113\")>,\n",
       " <selenium.webdriver.remote.webelement.WebElement (session=\"f5d0863ef8240fea6c3bc1baae0425cf\", element=\"CBD63EA093DD7EE9BC52DB25603EDFFE_element_114\")>,\n",
       " <selenium.webdriver.remote.webelement.WebElement (session=\"f5d0863ef8240fea6c3bc1baae0425cf\", element=\"CBD63EA093DD7EE9BC52DB25603EDFFE_element_115\")>,\n",
       " <selenium.webdriver.remote.webelement.WebElement (session=\"f5d0863ef8240fea6c3bc1baae0425cf\", element=\"CBD63EA093DD7EE9BC52DB25603EDFFE_element_116\")>,\n",
       " <selenium.webdriver.remote.webelement.WebElement (session=\"f5d0863ef8240fea6c3bc1baae0425cf\", element=\"CBD63EA093DD7EE9BC52DB25603EDFFE_element_117\")>,\n",
       " <selenium.webdriver.remote.webelement.WebElement (session=\"f5d0863ef8240fea6c3bc1baae0425cf\", element=\"CBD63EA093DD7EE9BC52DB25603EDFFE_element_118\")>,\n",
       " <selenium.webdriver.remote.webelement.WebElement (session=\"f5d0863ef8240fea6c3bc1baae0425cf\", element=\"CBD63EA093DD7EE9BC52DB25603EDFFE_element_119\")>,\n",
       " <selenium.webdriver.remote.webelement.WebElement (session=\"f5d0863ef8240fea6c3bc1baae0425cf\", element=\"CBD63EA093DD7EE9BC52DB25603EDFFE_element_120\")>,\n",
       " <selenium.webdriver.remote.webelement.WebElement (session=\"f5d0863ef8240fea6c3bc1baae0425cf\", element=\"CBD63EA093DD7EE9BC52DB25603EDFFE_element_121\")>,\n",
       " <selenium.webdriver.remote.webelement.WebElement (session=\"f5d0863ef8240fea6c3bc1baae0425cf\", element=\"CBD63EA093DD7EE9BC52DB25603EDFFE_element_122\")>,\n",
       " <selenium.webdriver.remote.webelement.WebElement (session=\"f5d0863ef8240fea6c3bc1baae0425cf\", element=\"CBD63EA093DD7EE9BC52DB25603EDFFE_element_123\")>,\n",
       " <selenium.webdriver.remote.webelement.WebElement (session=\"f5d0863ef8240fea6c3bc1baae0425cf\", element=\"CBD63EA093DD7EE9BC52DB25603EDFFE_element_124\")>,\n",
       " <selenium.webdriver.remote.webelement.WebElement (session=\"f5d0863ef8240fea6c3bc1baae0425cf\", element=\"CBD63EA093DD7EE9BC52DB25603EDFFE_element_125\")>,\n",
       " <selenium.webdriver.remote.webelement.WebElement (session=\"f5d0863ef8240fea6c3bc1baae0425cf\", element=\"CBD63EA093DD7EE9BC52DB25603EDFFE_element_126\")>,\n",
       " <selenium.webdriver.remote.webelement.WebElement (session=\"f5d0863ef8240fea6c3bc1baae0425cf\", element=\"CBD63EA093DD7EE9BC52DB25603EDFFE_element_127\")>,\n",
       " <selenium.webdriver.remote.webelement.WebElement (session=\"f5d0863ef8240fea6c3bc1baae0425cf\", element=\"CBD63EA093DD7EE9BC52DB25603EDFFE_element_128\")>,\n",
       " <selenium.webdriver.remote.webelement.WebElement (session=\"f5d0863ef8240fea6c3bc1baae0425cf\", element=\"CBD63EA093DD7EE9BC52DB25603EDFFE_element_129\")>,\n",
       " <selenium.webdriver.remote.webelement.WebElement (session=\"f5d0863ef8240fea6c3bc1baae0425cf\", element=\"CBD63EA093DD7EE9BC52DB25603EDFFE_element_130\")>,\n",
       " <selenium.webdriver.remote.webelement.WebElement (session=\"f5d0863ef8240fea6c3bc1baae0425cf\", element=\"CBD63EA093DD7EE9BC52DB25603EDFFE_element_131\")>,\n",
       " <selenium.webdriver.remote.webelement.WebElement (session=\"f5d0863ef8240fea6c3bc1baae0425cf\", element=\"CBD63EA093DD7EE9BC52DB25603EDFFE_element_132\")>,\n",
       " <selenium.webdriver.remote.webelement.WebElement (session=\"f5d0863ef8240fea6c3bc1baae0425cf\", element=\"CBD63EA093DD7EE9BC52DB25603EDFFE_element_133\")>,\n",
       " <selenium.webdriver.remote.webelement.WebElement (session=\"f5d0863ef8240fea6c3bc1baae0425cf\", element=\"CBD63EA093DD7EE9BC52DB25603EDFFE_element_134\")>,\n",
       " <selenium.webdriver.remote.webelement.WebElement (session=\"f5d0863ef8240fea6c3bc1baae0425cf\", element=\"CBD63EA093DD7EE9BC52DB25603EDFFE_element_135\")>,\n",
       " <selenium.webdriver.remote.webelement.WebElement (session=\"f5d0863ef8240fea6c3bc1baae0425cf\", element=\"CBD63EA093DD7EE9BC52DB25603EDFFE_element_136\")>,\n",
       " <selenium.webdriver.remote.webelement.WebElement (session=\"f5d0863ef8240fea6c3bc1baae0425cf\", element=\"CBD63EA093DD7EE9BC52DB25603EDFFE_element_137\")>,\n",
       " <selenium.webdriver.remote.webelement.WebElement (session=\"f5d0863ef8240fea6c3bc1baae0425cf\", element=\"CBD63EA093DD7EE9BC52DB25603EDFFE_element_138\")>,\n",
       " <selenium.webdriver.remote.webelement.WebElement (session=\"f5d0863ef8240fea6c3bc1baae0425cf\", element=\"CBD63EA093DD7EE9BC52DB25603EDFFE_element_139\")>,\n",
       " <selenium.webdriver.remote.webelement.WebElement (session=\"f5d0863ef8240fea6c3bc1baae0425cf\", element=\"CBD63EA093DD7EE9BC52DB25603EDFFE_element_140\")>,\n",
       " <selenium.webdriver.remote.webelement.WebElement (session=\"f5d0863ef8240fea6c3bc1baae0425cf\", element=\"CBD63EA093DD7EE9BC52DB25603EDFFE_element_141\")>,\n",
       " <selenium.webdriver.remote.webelement.WebElement (session=\"f5d0863ef8240fea6c3bc1baae0425cf\", element=\"CBD63EA093DD7EE9BC52DB25603EDFFE_element_142\")>,\n",
       " <selenium.webdriver.remote.webelement.WebElement (session=\"f5d0863ef8240fea6c3bc1baae0425cf\", element=\"CBD63EA093DD7EE9BC52DB25603EDFFE_element_143\")>,\n",
       " <selenium.webdriver.remote.webelement.WebElement (session=\"f5d0863ef8240fea6c3bc1baae0425cf\", element=\"CBD63EA093DD7EE9BC52DB25603EDFFE_element_144\")>,\n",
       " <selenium.webdriver.remote.webelement.WebElement (session=\"f5d0863ef8240fea6c3bc1baae0425cf\", element=\"CBD63EA093DD7EE9BC52DB25603EDFFE_element_145\")>,\n",
       " <selenium.webdriver.remote.webelement.WebElement (session=\"f5d0863ef8240fea6c3bc1baae0425cf\", element=\"CBD63EA093DD7EE9BC52DB25603EDFFE_element_146\")>,\n",
       " <selenium.webdriver.remote.webelement.WebElement (session=\"f5d0863ef8240fea6c3bc1baae0425cf\", element=\"CBD63EA093DD7EE9BC52DB25603EDFFE_element_147\")>,\n",
       " <selenium.webdriver.remote.webelement.WebElement (session=\"f5d0863ef8240fea6c3bc1baae0425cf\", element=\"CBD63EA093DD7EE9BC52DB25603EDFFE_element_148\")>,\n",
       " <selenium.webdriver.remote.webelement.WebElement (session=\"f5d0863ef8240fea6c3bc1baae0425cf\", element=\"CBD63EA093DD7EE9BC52DB25603EDFFE_element_149\")>,\n",
       " <selenium.webdriver.remote.webelement.WebElement (session=\"f5d0863ef8240fea6c3bc1baae0425cf\", element=\"CBD63EA093DD7EE9BC52DB25603EDFFE_element_150\")>,\n",
       " <selenium.webdriver.remote.webelement.WebElement (session=\"f5d0863ef8240fea6c3bc1baae0425cf\", element=\"CBD63EA093DD7EE9BC52DB25603EDFFE_element_151\")>,\n",
       " <selenium.webdriver.remote.webelement.WebElement (session=\"f5d0863ef8240fea6c3bc1baae0425cf\", element=\"CBD63EA093DD7EE9BC52DB25603EDFFE_element_152\")>,\n",
       " <selenium.webdriver.remote.webelement.WebElement (session=\"f5d0863ef8240fea6c3bc1baae0425cf\", element=\"CBD63EA093DD7EE9BC52DB25603EDFFE_element_153\")>,\n",
       " <selenium.webdriver.remote.webelement.WebElement (session=\"f5d0863ef8240fea6c3bc1baae0425cf\", element=\"CBD63EA093DD7EE9BC52DB25603EDFFE_element_154\")>,\n",
       " <selenium.webdriver.remote.webelement.WebElement (session=\"f5d0863ef8240fea6c3bc1baae0425cf\", element=\"CBD63EA093DD7EE9BC52DB25603EDFFE_element_155\")>,\n",
       " <selenium.webdriver.remote.webelement.WebElement (session=\"f5d0863ef8240fea6c3bc1baae0425cf\", element=\"CBD63EA093DD7EE9BC52DB25603EDFFE_element_156\")>,\n",
       " <selenium.webdriver.remote.webelement.WebElement (session=\"f5d0863ef8240fea6c3bc1baae0425cf\", element=\"CBD63EA093DD7EE9BC52DB25603EDFFE_element_157\")>,\n",
       " <selenium.webdriver.remote.webelement.WebElement (session=\"f5d0863ef8240fea6c3bc1baae0425cf\", element=\"CBD63EA093DD7EE9BC52DB25603EDFFE_element_158\")>,\n",
       " <selenium.webdriver.remote.webelement.WebElement (session=\"f5d0863ef8240fea6c3bc1baae0425cf\", element=\"CBD63EA093DD7EE9BC52DB25603EDFFE_element_159\")>,\n",
       " <selenium.webdriver.remote.webelement.WebElement (session=\"f5d0863ef8240fea6c3bc1baae0425cf\", element=\"CBD63EA093DD7EE9BC52DB25603EDFFE_element_160\")>,\n",
       " <selenium.webdriver.remote.webelement.WebElement (session=\"f5d0863ef8240fea6c3bc1baae0425cf\", element=\"CBD63EA093DD7EE9BC52DB25603EDFFE_element_161\")>,\n",
       " <selenium.webdriver.remote.webelement.WebElement (session=\"f5d0863ef8240fea6c3bc1baae0425cf\", element=\"CBD63EA093DD7EE9BC52DB25603EDFFE_element_162\")>]"
      ]
     },
     "execution_count": 6,
     "metadata": {},
     "output_type": "execute_result"
    }
   ],
   "source": [
    "lista"
   ]
  },
  {
   "cell_type": "code",
   "execution_count": 7,
   "metadata": {},
   "outputs": [],
   "source": [
    "lst2=[]\n",
    "for i in range(80, 114):\n",
    "    lst2.append(lista[i].text)"
   ]
  },
  {
   "cell_type": "code",
   "execution_count": 8,
   "metadata": {},
   "outputs": [],
   "source": [
    "driver.quit()"
   ]
  },
  {
   "cell_type": "code",
   "execution_count": 9,
   "metadata": {},
   "outputs": [
    {
     "data": {
      "text/plain": [
       "['–\\u2002País Vasco:',\n",
       " '●\\u2002Ley 4/2005, de 18 de febrero, para la Igualdad de Mujeres y Hombres, modificada por la Ley 1/2022, de 3 de marzo, de segunda modificación de la Ley para la Igualdad de Mujeres y Hombres.',\n",
       " '–\\u2002Cataluña:',\n",
       " '●\\u2002Ley 5/2008, de 24 de abril, del derecho de las mujeres a erradicar la violencia machista, modificada por la Ley 17/2020, de 22 de diciembre, de modificación de la Ley 5/2008, del derecho de las mujeres a erradicar la violencia machista.',\n",
       " '–\\u2002Galicia:',\n",
       " '●\\u2002Ley 11/2007, de 27 de julio, gallega para la prevención y el tratamiento integral de la violencia de género, modificada por la Ley 15/2021, de 3 de diciembre, por la que se modifica la Ley 11/2007, de 27 de julio, gallega para la prevención y el tratamiento integral de la violencia de género.',\n",
       " '–\\u2002Andalucía:',\n",
       " '●\\u2002Ley 13/2007, de 26 de noviembre, de medidas de prevención y protección integral contra la violencia de género, modificada por la Ley 7/2018, de 30 de julio, por la que se modifica la Ley 13/2007, de 26 de noviembre, de medidas de prevención y protección integral contra la violencia de género.',\n",
       " '–\\u2002Principado de Asturias:',\n",
       " '●\\u2002Ley del Principado de Asturias 2/2011, de 11 de marzo, para la igualdad de mujeres y hombres y la erradicación de la violencia de género.',\n",
       " '–\\u2002Cantabria:',\n",
       " '●\\u2002Ley de Cantabria 1/2004, de 1 de abril, Integral para la Prevención de la Violencia Contra las Mujeres y la Protección a sus Víctimas.',\n",
       " '–\\u2002La Rioja:',\n",
       " '●\\u2002Ley 11/2022, de 20 de septiembre, contra la Violencia de Género de La Rioja.',\n",
       " '–\\u2002Región de Murcia:',\n",
       " '●\\u2002Ley 7/2007, de 4 de abril, para la igualdad entre mujeres y hombres, y de protección contra la violencia de género en la Región de Murcia, modificada por la Ley 3/2019, de 20 de marzo, de modificación de la Ley 7/2007, de 4 de abril, para la igualdad entre mujeres y hombres, y de protección contra la violencia de género en la Región de Murcia.',\n",
       " '–\\u2002Comunitat Valenciana:',\n",
       " '●\\u2002Ley 7/2012, de 23 de noviembre, de la Generalitat, Integral contra la Violencia sobre la Mujer en el ámbito de la Comunitat Valenciana.',\n",
       " '–\\u2002Aragón:',\n",
       " '●\\u2002Ley 4/2007, de 22 de marzo, de Prevención y Protección Integral a las Mujeres Víctimas de Violencia en Aragón.',\n",
       " '–\\u2002Castilla-La Mancha:',\n",
       " '●\\u2002Ley 4/2018, de 8 de octubre, para una Sociedad libre de Violencia de Género en Castilla-La Mancha.',\n",
       " '–\\u2002Canarias:',\n",
       " '●\\u2002Ley 16/2003, de 8 de abril, de Prevención y Protección Integral de las Mujeres contra la Violencia de Género, modificada por la Ley 1/2017, de 17 de marzo, de modificación de la Ley 16/2003, de 8 de abril, de Prevención y Protección Integral de las Mujeres Contra la Violencia de Género.',\n",
       " '–\\u2002Comunidad Foral de Navarra:',\n",
       " '●\\u2002Ley Foral 14/2015, para actuar contra la violencia hacia las mujeres, modificada por la Ley Foral 3/2018, de 19 de abril, para la modificación de la Ley Foral 14/2015, de 10 de abril, para actuar contra la violencia hacia las mujeres.',\n",
       " '–\\u2002Extremadura:',\n",
       " '●\\u2002Ley 8/2011, de 23 de marzo, de Igualdad entre Mujeres y Hombres y contra la Violencia de Género en Extremadura.',\n",
       " '–\\u2002Islas Baleares:',\n",
       " '●\\u2002Ley 11/2016, de 28 de julio, de igualdad de mujeres y hombres de la Comunidad Autónoma de las Islas Baleares.',\n",
       " '–\\u2002Comunidad de Madrid:',\n",
       " '●\\u2002Ley 5/2005, de 20 de diciembre, Integral contra la Violencia de Género de la Comunidad de Madrid, modificada por la Ley 3/2018, de 22 de junio, de modificación de la Ley 5/2005, de 20 de diciembre, Integral contra la Violencia de Género de la Comunidad de Madrid.',\n",
       " '–\\u2002Castilla y León:',\n",
       " '●\\u2002Ley 13/2010, de 9 de diciembre, contra la violencia de género en Castilla y León, modificada por Ley 7/2017, de 28 de diciembre, de medidas tributarias.']"
      ]
     },
     "execution_count": 9,
     "metadata": {},
     "output_type": "execute_result"
    }
   ],
   "source": [
    "lst2"
   ]
  },
  {
   "cell_type": "code",
   "execution_count": 10,
   "metadata": {},
   "outputs": [
    {
     "data": {
      "text/plain": [
       "'–\\u2002País Vasco:'"
      ]
     },
     "execution_count": 10,
     "metadata": {},
     "output_type": "execute_result"
    }
   ],
   "source": [
    "lst2[0]"
   ]
  },
  {
   "cell_type": "code",
   "execution_count": 11,
   "metadata": {},
   "outputs": [],
   "source": [
    "for i, e in enumerate(lst2):\n",
    "    if e.startswith('–\\u2002'):\n",
    "        lst2[i] = e.split('–\\u2002', 1)[1]\n",
    "    elif e.startswith('●\\u2002'):\n",
    "        lst2[i] = e.split('●\\u2002', 1)[1]\n"
   ]
  },
  {
   "cell_type": "code",
   "execution_count": 12,
   "metadata": {},
   "outputs": [
    {
     "data": {
      "text/plain": [
       "['País Vasco:',\n",
       " 'Ley 4/2005, de 18 de febrero, para la Igualdad de Mujeres y Hombres, modificada por la Ley 1/2022, de 3 de marzo, de segunda modificación de la Ley para la Igualdad de Mujeres y Hombres.',\n",
       " 'Cataluña:',\n",
       " 'Ley 5/2008, de 24 de abril, del derecho de las mujeres a erradicar la violencia machista, modificada por la Ley 17/2020, de 22 de diciembre, de modificación de la Ley 5/2008, del derecho de las mujeres a erradicar la violencia machista.',\n",
       " 'Galicia:',\n",
       " 'Ley 11/2007, de 27 de julio, gallega para la prevención y el tratamiento integral de la violencia de género, modificada por la Ley 15/2021, de 3 de diciembre, por la que se modifica la Ley 11/2007, de 27 de julio, gallega para la prevención y el tratamiento integral de la violencia de género.',\n",
       " 'Andalucía:',\n",
       " 'Ley 13/2007, de 26 de noviembre, de medidas de prevención y protección integral contra la violencia de género, modificada por la Ley 7/2018, de 30 de julio, por la que se modifica la Ley 13/2007, de 26 de noviembre, de medidas de prevención y protección integral contra la violencia de género.',\n",
       " 'Principado de Asturias:',\n",
       " 'Ley del Principado de Asturias 2/2011, de 11 de marzo, para la igualdad de mujeres y hombres y la erradicación de la violencia de género.',\n",
       " 'Cantabria:',\n",
       " 'Ley de Cantabria 1/2004, de 1 de abril, Integral para la Prevención de la Violencia Contra las Mujeres y la Protección a sus Víctimas.',\n",
       " 'La Rioja:',\n",
       " 'Ley 11/2022, de 20 de septiembre, contra la Violencia de Género de La Rioja.',\n",
       " 'Región de Murcia:',\n",
       " 'Ley 7/2007, de 4 de abril, para la igualdad entre mujeres y hombres, y de protección contra la violencia de género en la Región de Murcia, modificada por la Ley 3/2019, de 20 de marzo, de modificación de la Ley 7/2007, de 4 de abril, para la igualdad entre mujeres y hombres, y de protección contra la violencia de género en la Región de Murcia.',\n",
       " 'Comunitat Valenciana:',\n",
       " 'Ley 7/2012, de 23 de noviembre, de la Generalitat, Integral contra la Violencia sobre la Mujer en el ámbito de la Comunitat Valenciana.',\n",
       " 'Aragón:',\n",
       " 'Ley 4/2007, de 22 de marzo, de Prevención y Protección Integral a las Mujeres Víctimas de Violencia en Aragón.',\n",
       " 'Castilla-La Mancha:',\n",
       " 'Ley 4/2018, de 8 de octubre, para una Sociedad libre de Violencia de Género en Castilla-La Mancha.',\n",
       " 'Canarias:',\n",
       " 'Ley 16/2003, de 8 de abril, de Prevención y Protección Integral de las Mujeres contra la Violencia de Género, modificada por la Ley 1/2017, de 17 de marzo, de modificación de la Ley 16/2003, de 8 de abril, de Prevención y Protección Integral de las Mujeres Contra la Violencia de Género.',\n",
       " 'Comunidad Foral de Navarra:',\n",
       " 'Ley Foral 14/2015, para actuar contra la violencia hacia las mujeres, modificada por la Ley Foral 3/2018, de 19 de abril, para la modificación de la Ley Foral 14/2015, de 10 de abril, para actuar contra la violencia hacia las mujeres.',\n",
       " 'Extremadura:',\n",
       " 'Ley 8/2011, de 23 de marzo, de Igualdad entre Mujeres y Hombres y contra la Violencia de Género en Extremadura.',\n",
       " 'Islas Baleares:',\n",
       " 'Ley 11/2016, de 28 de julio, de igualdad de mujeres y hombres de la Comunidad Autónoma de las Islas Baleares.',\n",
       " 'Comunidad de Madrid:',\n",
       " 'Ley 5/2005, de 20 de diciembre, Integral contra la Violencia de Género de la Comunidad de Madrid, modificada por la Ley 3/2018, de 22 de junio, de modificación de la Ley 5/2005, de 20 de diciembre, Integral contra la Violencia de Género de la Comunidad de Madrid.',\n",
       " 'Castilla y León:',\n",
       " 'Ley 13/2010, de 9 de diciembre, contra la violencia de género en Castilla y León, modificada por Ley 7/2017, de 28 de diciembre, de medidas tributarias.']"
      ]
     },
     "execution_count": 12,
     "metadata": {},
     "output_type": "execute_result"
    }
   ],
   "source": [
    "lst2"
   ]
  },
  {
   "cell_type": "code",
   "execution_count": 13,
   "metadata": {},
   "outputs": [],
   "source": [
    "leyes = {}\n",
    "region = None  # Variable para almacenar la región actual mientras iteramos por la lista\n",
    "\n",
    "for e in lst2:\n",
    "    if e.endswith(':'):  # Si la cadena termina en ':', es el nombre de una región\n",
    "        region = e.rstrip(':').strip()  # Obtener el nombre de la región sin los dos puntos y con espacios eliminados\n",
    "        leyes[region] = []  # Inicializar la lista de leyes para esta región\n",
    "    elif region is not None:  # Si no termina en ':', y ya hemos encontrado una región\n",
    "        leyes[region].append(e.strip())"
   ]
  },
  {
   "cell_type": "code",
   "execution_count": 17,
   "metadata": {},
   "outputs": [
    {
     "ename": "KeyError",
     "evalue": "2",
     "output_type": "error",
     "traceback": [
      "\u001b[0;31m---------------------------------------------------------------------------\u001b[0m",
      "\u001b[0;31mKeyError\u001b[0m                                  Traceback (most recent call last)",
      "\u001b[1;32m/Users/noeliarosonmartin/Ironhack/final_project/code/scrapeo.ipynb Celda 15\u001b[0m line \u001b[0;36m1\n\u001b[0;32m----> <a href='vscode-notebook-cell:/Users/noeliarosonmartin/Ironhack/final_project/code/scrapeo.ipynb#X20sZmlsZQ%3D%3D?line=0'>1</a>\u001b[0m leyes[\u001b[39m2\u001b[39;49m]\n",
      "\u001b[0;31mKeyError\u001b[0m: 2"
     ]
    }
   ],
   "source": []
  },
  {
   "cell_type": "code",
   "execution_count": null,
   "metadata": {},
   "outputs": [],
   "source": []
  },
  {
   "cell_type": "code",
   "execution_count": null,
   "metadata": {},
   "outputs": [],
   "source": []
  },
  {
   "cell_type": "code",
   "execution_count": null,
   "metadata": {},
   "outputs": [],
   "source": []
  }
 ],
 "metadata": {
  "kernelspec": {
   "display_name": "clase",
   "language": "python",
   "name": "clase"
  },
  "language_info": {
   "codemirror_mode": {
    "name": "ipython",
    "version": 3
   },
   "file_extension": ".py",
   "mimetype": "text/x-python",
   "name": "python",
   "nbconvert_exporter": "python",
   "pygments_lexer": "ipython3",
   "version": "3.10.13"
  }
 },
 "nbformat": 4,
 "nbformat_minor": 2
}
